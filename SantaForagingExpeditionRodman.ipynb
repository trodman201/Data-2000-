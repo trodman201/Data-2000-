{
  "nbformat": 4,
  "nbformat_minor": 0,
  "metadata": {
    "colab": {
      "provenance": [],
      "authorship_tag": "ABX9TyPVqJ0QKlYCv3LtWofThAMZ",
      "include_colab_link": true
    },
    "kernelspec": {
      "name": "python3",
      "display_name": "Python 3"
    },
    "language_info": {
      "name": "python"
    }
  },
  "cells": [
    {
      "cell_type": "markdown",
      "metadata": {
        "id": "view-in-github",
        "colab_type": "text"
      },
      "source": [
        "<a href=\"https://colab.research.google.com/github/trodman201/Data-2000-/blob/homework/SantaForagingExpeditionRodman.ipynb\" target=\"_parent\"><img src=\"https://colab.research.google.com/assets/colab-badge.svg\" alt=\"Open In Colab\"/></a>"
      ]
    },
    {
      "cell_type": "code",
      "source": [
        "#import file on the left side with the square with the arrow, no need to change extension\n",
        "\n",
        "def main():\n",
        "    with open(\"09-25_input-1\", \"r\") as file:\n",
        "        lines = file.read().split('\\n\\n')\n",
        "    elf_calories = [[int(calorie) for calorie in group.split('\\n') if calorie] for group in lines]\n",
        "\n",
        "    max_calories_elf = max(elf_calories, key=sum)\n",
        "    max_calories_part1 = sum(max_calories_elf)\n",
        "    print(\"total calories carried by elf with the most cals:\", max_calories_part1)\n",
        "\n",
        "    top_3_elves = sorted(elf_calories, key=sum, reverse=True)[:3]\n",
        "    max_calories_part2 = sum(map(sum, top_3_elves))\n",
        "    print(\"total cals carried by  top 3 elves:\", max_calories_part2)\n",
        "\n",
        "\n",
        "if __name__ == \"__main__\":\n",
        "    main()\n",
        "\n"
      ],
      "metadata": {
        "colab": {
          "base_uri": "https://localhost:8080/"
        },
        "id": "Ftu_o09yUfST",
        "outputId": "9ec9429c-f4a0-4147-f6cf-be7a44407509"
      },
      "execution_count": 5,
      "outputs": [
        {
          "output_type": "stream",
          "name": "stdout",
          "text": [
            "total calories carried by elf with the most cals: 70369\n",
            "total cals carried by  top 3 elves: 203002\n"
          ]
        }
      ]
    }
  ]
}