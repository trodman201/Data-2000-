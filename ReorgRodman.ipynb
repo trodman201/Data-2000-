{
  "nbformat": 4,
  "nbformat_minor": 0,
  "metadata": {
    "colab": {
      "provenance": [],
      "authorship_tag": "ABX9TyMWdw83Ho5GFZRwdTUc92Gj",
      "include_colab_link": true
    },
    "kernelspec": {
      "name": "python3",
      "display_name": "Python 3"
    },
    "language_info": {
      "name": "python"
    }
  },
  "cells": [
    {
      "cell_type": "markdown",
      "metadata": {
        "id": "view-in-github",
        "colab_type": "text"
      },
      "source": [
        "<a href=\"https://colab.research.google.com/github/trodman201/Data-2000-/blob/homework/ReorgRodman.ipynb\" target=\"_parent\"><img src=\"https://colab.research.google.com/assets/colab-badge.svg\" alt=\"Open In Colab\"/></a>"
      ]
    },
    {
      "cell_type": "code",
      "source": [
        "\n",
        "def calculate_priority(item):\n",
        "    if 'a' <= item <= 'z':\n",
        "        return ord(item) - ord('a') + 1\n",
        "    elif 'A' <= item <= 'Z':\n",
        "        return ord(item) - ord('A') + 27\n",
        "    else:\n",
        "        return 0  # Not a valid item\n",
        "\n",
        "\n",
        "def find_common_item_type(contents):\n",
        "    half_length = len(contents) // 2\n",
        "    first_compartment = set(contents[:half_length])\n",
        "    second_compartment = set(contents[half_length:])\n",
        "    common_items = first_compartment.intersection(second_compartment)\n",
        "    return common_items\n",
        "\n",
        "\n",
        "def main():\n",
        "    with open(\"rucksack-input\", \"r\") as file:\n",
        "        lines = file.read().strip().split('\\n')\n",
        "\n",
        "    total_priority_part1 = 0\n",
        "    total_priority_part2 = 0\n",
        "\n",
        "    for i in range(0, len(lines), 3):\n",
        "        group_lines = lines[i:i + 3]\n",
        "        min_length = min(len(group_lines[0]), len(group_lines[1]), len(group_lines[2]))\n",
        "        group_contents = ''.join([group_lines[j][:min_length] for j in range(3)])  # Use minimum length\n",
        "        common_item = find_common_item_type(group_contents)\n",
        "\n",
        "        if common_item:\n",
        "            group_priority_part1 = calculate_priority(common_item.pop())\n",
        "            total_priority_part1 += group_priority_part1\n",
        "\n",
        "        badge_item = None\n",
        "        for j in range(min_length):\n",
        "            items = [group_lines[0][j], group_lines[1][j], group_lines[2][j]]\n",
        "            if items.count(items[0]) == 3:\n",
        "                badge_item = items[0]\n",
        "                break\n",
        "\n",
        "        if badge_item:\n",
        "            group_priority_part2 = calculate_priority(badge_item)\n",
        "            total_priority_part2 += group_priority_part2\n",
        "\n",
        "    print(\"1 :\", total_priority_part1)\n",
        "    print(\"2 :\", total_priority_part2)\n",
        "\n",
        "\n",
        "if __name__ == \"__main__\":\n",
        "    main()\n",
        "\n"
      ],
      "metadata": {
        "id": "R0bq_Q-St61g",
        "colab": {
          "base_uri": "https://localhost:8080/"
        },
        "outputId": "35d01332-3c37-4c6a-e26f-d306136ec6e4"
      },
      "execution_count": 6,
      "outputs": [
        {
          "output_type": "stream",
          "name": "stdout",
          "text": [
            "1 : 3878\n",
            "2 : 0\n"
          ]
        }
      ]
    }
  ]
}