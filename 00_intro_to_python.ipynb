{
  "nbformat": 4,
  "nbformat_minor": 0,
  "metadata": {
    "colab": {
      "provenance": [],
      "include_colab_link": true
    },
    "kernelspec": {
      "name": "python3",
      "display_name": "Python 3"
    },
    "language_info": {
      "name": "python"
    }
  },
  "cells": [
    {
      "cell_type": "markdown",
      "metadata": {
        "id": "view-in-github",
        "colab_type": "text"
      },
      "source": [
        "<a href=\"https://colab.research.google.com/github/trodman201/Data-2000-/blob/main/00_intro_to_python.ipynb\" target=\"_parent\"><img src=\"https://colab.research.google.com/assets/colab-badge.svg\" alt=\"Open In Colab\"/></a>"
      ]
    },
    {
      "cell_type": "markdown",
      "source": [
        "# (Re-)Introduction to Python\n",
        "\n",
        "The goal of this lesson is to give folks a working understanding of some major concepts in Python programming, including:\n",
        "\n",
        "- Classes\n",
        "- Functions & abstraction\n",
        "- Loops\n",
        "- Type hinting and data types\n",
        "- Control flows and procedural programming\n",
        "- Python standard library packages\n",
        "- Probably other goodies I don't feel like listing\n",
        "\n",
        "We will work through these labs in class to hit on all the above points, but feel free to give this a go yourself and see what you come up with!"
      ],
      "metadata": {
        "id": "ZZyVH1VRw4xq"
      }
    },
    {
      "cell_type": "markdown",
      "source": [
        "# Lab 01a: The Drunk Passenger problem\n",
        "\n",
        "Let's say that we have an airplane with 100 seats, and every seat is booked. Each of the 100 passengers has a ticket with a seat assignment. For simplicity, let's assume Passenger 1 is in Seat 1, Passenger 2 is in Seat 2, and so forth.\n",
        "\n",
        "But there's a wrinkle: Passenger 1 isn't a great traveller, so to try and calm their nerves they've had a little bit to drink and are slightly more tipsy than they should be. When Passenger 1 boards, they forget what seat they're assigned and sit in any random seat instead.\n",
        "\n",
        "For each passenger who boards after them, if their assigned seat is available, they will sit in it. If their assigned seat is already taken, they will also choose a new, random seat.\n",
        "\n",
        "**Write a program that boards all 100 passengers and returns the final seat assignment for Passenger 100. Does Passenger 100 get to keep their original seat or not?**"
      ],
      "metadata": {
        "id": "NRFeohsPyc4d"
      }
    },
    {
      "cell_type": "code",
      "source": [
        "import random\n",
        "\n",
        "passengers: list[int] = [x for x in range (100)]\n",
        "seats: list[int] = [x for x in range (100)]\n",
        "\n",
        "\n",
        "curr_passenger = 0\n",
        "curr_seat = 0\n",
        "def main():\n",
        "  random_seat = random.choice(seats)\n",
        "  seats.remove(random_seat)\n",
        "  passengers.remove(0)\n",
        "\n",
        "  for passenger in passengers[:-1]:\n",
        "     if passenger not in seats:\n",
        "          random_seat = random.choice(seats)\n",
        "          seats.remove(random_seat)\n",
        "  else:\n",
        "        seats.remove(passenger)\n",
        "  print(passengers)\n",
        "  print(seats)\n",
        "\n",
        "\n",
        "main()\n",
        "\n"
      ],
      "metadata": {
        "id": "eazpcLaiw7R5",
        "colab": {
          "base_uri": "https://localhost:8080/"
        },
        "outputId": "d84e3cbc-a167-4fae-bbb3-3894349567ce"
      },
      "execution_count": null,
      "outputs": [
        {
          "output_type": "stream",
          "name": "stdout",
          "text": [
            "[1, 2, 3, 4, 5, 6, 7, 8, 9, 10, 11, 12, 13, 14, 15, 16, 17, 18, 19, 20, 21, 22, 23, 24, 25, 26, 27, 28, 29, 30, 31, 32, 33, 34, 35, 36, 37, 38, 39, 40, 41, 42, 43, 44, 45, 46, 47, 48, 49, 50, 51, 52, 53, 54, 55, 56, 57, 58, 59, 60, 61, 62, 63, 64, 65, 66, 67, 68, 69, 70, 71, 72, 73, 74, 75, 76, 77, 78, 79, 80, 81, 82, 83, 84, 85, 86, 87, 88, 89, 90, 91, 92, 93, 94, 95, 96, 97, 98, 99]\n",
            "[0, 1, 2, 3, 4, 5, 6, 7, 8, 9, 10, 11, 12, 13, 14, 15, 16, 17, 18, 19, 20, 21, 22, 23, 24, 25, 26, 27, 28, 29, 30, 31, 32, 33, 34, 35, 36, 37, 38, 40, 41, 42, 43, 44, 45, 46, 47, 48, 49, 50, 51, 52, 53, 54, 55, 57, 58, 59, 60, 61, 62, 63, 64, 65, 66, 67, 68, 69, 70, 71, 72, 73, 74, 75, 76, 77, 78, 79, 80, 81, 82, 83, 84, 85, 86, 87, 88, 89, 90, 91, 92, 93, 94, 95, 96, 97, 99]\n"
          ]
        }
      ]
    },
    {
      "cell_type": "markdown",
      "source": [
        "# Lab 01b: Return of the Drunk Passenger\n",
        "\n",
        "Great! So we've figured out that our poor final passenger to board got to keep their seat. Or maybe not. Really, who can say. Pseudorandom number generators, am I right?\n",
        "\n",
        "So let's extend our original program a bit. Instead of just boarding everyone once, let's do it 10,000 times!\n",
        "\n",
        "**Write a program that simulates the boarding process from Lab 01a 10,000 times. Keep track of how many times Passenger 100 is able to keep their assigned seat. What is the probability of Passenger 100 keeping their assigned seat?**"
      ],
      "metadata": {
        "id": "v52Pd-xNzxYh"
      }
    },
    {
      "cell_type": "code",
      "source": [
        "import random\n",
        "\n",
        "\n",
        "def board_passengers() -> int:\n",
        "    # Create a list of 100 passengers and of 100 plane seats\n",
        "    passengers: list[int] = [x for x in range(100)]\n",
        "    seats: list[int] = [x for x in range(100)]\n",
        "\n",
        "    # Start by choosing a random seat for Passenger 0 to sit in\n",
        "    random_seat: int = random.choice(seats)\n",
        "\n",
        "    # Remove that seat from the list of available seats\n",
        "    seats.remove(random_seat)\n",
        "\n",
        "    # Remove Passenger 0 from the list of passengers to\n",
        "    # be boarded\n",
        "    passengers.remove(0)\n",
        "\n",
        "    # For passenger 2-98\n",
        "    for passenger in passengers[:-1]:\n",
        "        # If the original seat is not available\n",
        "        if passenger not in seats:\n",
        "            # Choose a new, available seat at random for\n",
        "            #  them to sit in\n",
        "            random_seat = random.choice(seats)\n",
        "            seats.remove(random_seat)\n",
        "        # Otherwise, keep their original seat\n",
        "        else:\n",
        "            seats.remove(passenger)\n",
        "\n",
        "    # Return the seat assignment of the last passenger,\n",
        "    # Passenger 99\n",
        "    return seats[0]\n",
        "\n",
        "final_seat = board_passengers()\n",
        "print(f\"The last passenger ended up in seat {final_seat}\")"
      ],
      "metadata": {
        "colab": {
          "base_uri": "https://localhost:8080/"
        },
        "id": "nyNUAJ4pEObX",
        "outputId": "0f8dafd7-6eaa-4cd7-b569-a1be576335b3"
      },
      "execution_count": 14,
      "outputs": [
        {
          "output_type": "stream",
          "name": "stdout",
          "text": [
            "The last passenger ended up in seat 0\n"
          ]
        }
      ]
    },
    {
      "cell_type": "code",
      "source": [
        "kept_seat_count: int = 0\n",
        "n_iterations = 10000\n",
        "\n",
        "for flight in range(n_iterations):\n",
        "    kept_seat_count += board_passengers() == 99\n",
        "\n",
        "kept_percentage: float = round((kept_seat_count / n_iterations) * 100, 2)\n",
        "print(f\"The last passenger kept their seat {kept_percentage}% of the time\")\n",
        "\n"
      ],
      "metadata": {
        "colab": {
          "base_uri": "https://localhost:8080/"
        },
        "outputId": "299fe493-8f35-48dd-a6f5-415f2a16e048",
        "id": "MzZMX-vbxpYj"
      },
      "execution_count": 15,
      "outputs": [
        {
          "output_type": "stream",
          "name": "stdout",
          "text": [
            "The last passenger kept their seat 49.12% of the time\n"
          ]
        }
      ]
    },
    {
      "cell_type": "code",
      "source": [
        "import random\n",
        "\n",
        "def drunk_passenger_simulation(num_simulations):\n",
        "    original_seat_count = 0\n",
        "\n",
        "    for _ in range(num_simulations):\n",
        "\n",
        "        seats = [0] * 100\n",
        "\n",
        "\n",
        "        passenger_1_seat = random.randint(0, 99)\n",
        "        seats[passenger_1_seat] = 1\n",
        "\n",
        "        for passenger in range(2, 101):\n",
        "            if seats[passenger - 1] == 0:\n",
        "\n",
        "                seats[passenger - 1] = 1\n",
        "            else:\n",
        "\n",
        "                while True:\n",
        "                    random_seat = random.randint(0, 99)\n",
        "                    if seats[random_seat] == 0:\n",
        "                        seats[random_seat] = 1\n",
        "                        break\n",
        "\n",
        "\n",
        "        if seats[99] == 1:\n",
        "            original_seat_count += 1\n",
        "\n",
        "\n",
        "    probability = original_seat_count / num_simulations\n",
        "    return probability\n",
        "\n",
        "num_simulations = 100000\n",
        "\n",
        "\n",
        "probability = drunk_passenger_simulation(num_simulations)\n",
        "\n",
        "print(f\"Probability that Passenger 100 keeps their original seat: {probability:.4f}\")"
      ],
      "metadata": {
        "colab": {
          "base_uri": "https://localhost:8080/"
        },
        "id": "lQ_huL1I10Z2",
        "outputId": "9520a96b-7928-4403-e988-f03bf02612d9"
      },
      "execution_count": null,
      "outputs": [
        {
          "output_type": "stream",
          "name": "stdout",
          "text": [
            "Probability that Passenger 100 keeps their original seat: 1.0000\n"
          ]
        }
      ]
    }
  ]
}