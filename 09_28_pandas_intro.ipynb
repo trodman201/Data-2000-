{
  "cells": [
    {
      "cell_type": "markdown",
      "metadata": {
        "id": "view-in-github",
        "colab_type": "text"
      },
      "source": [
        "<a href=\"https://colab.research.google.com/github/trodman201/Data-2000-/blob/main/09_28_pandas_intro.ipynb\" target=\"_parent\"><img src=\"https://colab.research.google.com/assets/colab-badge.svg\" alt=\"Open In Colab\"/></a>"
      ]
    },
    {
      "cell_type": "code",
      "execution_count": null,
      "id": "e5f8b76e-eaac-4e72-a1aa-e9a62b1d4fd4",
      "metadata": {
        "id": "e5f8b76e-eaac-4e72-a1aa-e9a62b1d4fd4"
      },
      "outputs": [],
      "source": [
        "!pip install --upgrade pandas matplotlib"
      ]
    },
    {
      "cell_type": "markdown",
      "id": "55dcfcda-9418-4797-89f3-42a7da59d201",
      "metadata": {
        "id": "55dcfcda-9418-4797-89f3-42a7da59d201"
      },
      "source": [
        "# Introduction to Pandas\n",
        "\n",
        "**Learning Objectives:**\n",
        "  * Gain an introduction to the `DataFrame` and `Series` data structures of the *pandas* library\n",
        "  * Access and manipulate data within a `DataFrame` and `Series`\n",
        "  * Import CSV data into a *pandas* `DataFrame`\n",
        "  * Reindex a `DataFrame` to shuffle data\n",
        "  \n",
        "[*pandas*](http://pandas.pydata.org/) is a column-oriented data analysis API. It's a great tool for handling and analyzing input data, and many ML frameworks support *pandas* data structures as inputs.\n",
        "Although a comprehensive introduction to the *pandas* API would span many pages, the core concepts are fairly straightforward, and we'll present them below. For a more complete reference, the [*pandas* docs site](http://pandas.pydata.org/pandas-docs/stable/index.html) contains extensive documentation and many tutorials."
      ]
    },
    {
      "cell_type": "markdown",
      "id": "3a40ba62-113e-4851-b8e8-99deecc7b199",
      "metadata": {
        "id": "3a40ba62-113e-4851-b8e8-99deecc7b199"
      },
      "source": [
        "## Basic Concepts\n",
        "\n",
        "The following line imports the *pandas* API and prints the API version:"
      ]
    },
    {
      "cell_type": "code",
      "execution_count": null,
      "id": "ad468d1f-f55b-4bd4-bfee-655ea3158084",
      "metadata": {
        "id": "ad468d1f-f55b-4bd4-bfee-655ea3158084"
      },
      "outputs": [],
      "source": [
        "from __future__ import print_function\n",
        "\n",
        "import pandas as pd\n",
        "pd.__version__"
      ]
    },
    {
      "cell_type": "markdown",
      "id": "67ead2e9-a263-4116-99b0-eb276dbd9f93",
      "metadata": {
        "id": "67ead2e9-a263-4116-99b0-eb276dbd9f93"
      },
      "source": [
        "The primary data structures in *pandas* are implemented as two classes:\n",
        "\n",
        "  * **`DataFrame`**, which you can imagine as a relational data table, with rows and named columns.\n",
        "  * **`Series`**, which is a single column. A `DataFrame` contains one or more `Series` and a name for each `Series`.\n",
        "\n",
        "The data frame is a commonly used abstraction for data manipulation. Similar implementations exist in [Spark](https://spark.apache.org/) and [R](https://www.r-project.org/about.html)."
      ]
    },
    {
      "cell_type": "markdown",
      "id": "1affbd5a-f8b0-415d-b96f-68db5a1a4061",
      "metadata": {
        "id": "1affbd5a-f8b0-415d-b96f-68db5a1a4061"
      },
      "source": [
        "One way to create a `Series` is to construct a `Series` object. For example:"
      ]
    },
    {
      "cell_type": "code",
      "execution_count": null,
      "id": "9f21a645-d816-4ebf-856e-e6ed5d47738c",
      "metadata": {
        "id": "9f21a645-d816-4ebf-856e-e6ed5d47738c"
      },
      "outputs": [],
      "source": [
        "pd.Series(['San Francisco', 'San Jose', 'Sacramento'])"
      ]
    },
    {
      "cell_type": "markdown",
      "id": "748844b9-03ee-40c1-9275-336a7b8ac78b",
      "metadata": {
        "id": "748844b9-03ee-40c1-9275-336a7b8ac78b"
      },
      "source": [
        "`DataFrame` objects can be created by passing a `dict` mapping `string` column names to their respective `Series`. If the `Series` don't match in length, missing values are filled with special [NA/NaN](http://pandas.pydata.org/pandas-docs/stable/missing_data.html) values. Example:"
      ]
    },
    {
      "cell_type": "code",
      "execution_count": null,
      "id": "e3ff25c7-abaf-45f4-8d3b-14539a11ff43",
      "metadata": {
        "id": "e3ff25c7-abaf-45f4-8d3b-14539a11ff43"
      },
      "outputs": [],
      "source": [
        "city_names = pd.Series(['San Francisco', 'San Jose', 'Sacramento'])\n",
        "population = pd.Series([852469, 1015785, 485199])\n",
        "\n",
        "pd.DataFrame({ 'City name': city_names, 'Population': population })"
      ]
    },
    {
      "cell_type": "markdown",
      "id": "888452aa-2be1-478b-9431-0ac5f93d468e",
      "metadata": {
        "id": "888452aa-2be1-478b-9431-0ac5f93d468e"
      },
      "source": [
        "But most of the time, you load an entire file into a `DataFrame`. The following example loads a file with California housing data. Run the following cell to load the data and create feature definitions:"
      ]
    },
    {
      "cell_type": "code",
      "execution_count": null,
      "id": "9994870f-9558-4032-b23b-6b106863083c",
      "metadata": {
        "id": "9994870f-9558-4032-b23b-6b106863083c"
      },
      "outputs": [],
      "source": [
        "california_housing = pd.read_csv(\n",
        "    \"https://download.mlcc.google.com/mledu-datasets/california_housing_train.csv\",\n",
        "    sep=\",\")\n",
        "california_housing.describe()"
      ]
    },
    {
      "cell_type": "markdown",
      "id": "7d6e9445-9ee8-44e0-80b9-55f099a08f80",
      "metadata": {
        "id": "7d6e9445-9ee8-44e0-80b9-55f099a08f80"
      },
      "source": [
        "The example above used `DataFrame.describe` to show interesting statistics about a `DataFrame`. Another useful function is `DataFrame.head`, which displays the first few records of a `DataFrame`:"
      ]
    },
    {
      "cell_type": "code",
      "execution_count": null,
      "id": "5d922001-45fc-4037-9e04-ef665734c110",
      "metadata": {
        "id": "5d922001-45fc-4037-9e04-ef665734c110"
      },
      "outputs": [],
      "source": [
        "california_housing.head()"
      ]
    },
    {
      "cell_type": "markdown",
      "id": "8b4fc71a-3246-45e0-aff6-7ead18f172d2",
      "metadata": {
        "id": "8b4fc71a-3246-45e0-aff6-7ead18f172d2"
      },
      "source": [
        "Another powerful feature of *pandas* is graphing. For example, `DataFrame.hist` lets you quickly study the distribution of values in a column:"
      ]
    },
    {
      "cell_type": "code",
      "execution_count": null,
      "id": "10f2e235-2009-459d-9d52-814986eef8c0",
      "metadata": {
        "id": "10f2e235-2009-459d-9d52-814986eef8c0"
      },
      "outputs": [],
      "source": [
        "california_housing.hist('housing_median_age')"
      ]
    },
    {
      "cell_type": "markdown",
      "id": "bf9f9438-5811-4573-979a-778e63b3c9da",
      "metadata": {
        "id": "bf9f9438-5811-4573-979a-778e63b3c9da"
      },
      "source": [
        "## Accessing Data\n",
        "\n",
        "You can access `DataFrame` data using familiar Python dict/list operations:"
      ]
    },
    {
      "cell_type": "code",
      "execution_count": null,
      "id": "39843ffe-8feb-488e-a887-1fa040ebf46b",
      "metadata": {
        "id": "39843ffe-8feb-488e-a887-1fa040ebf46b"
      },
      "outputs": [],
      "source": [
        "cities = pd.DataFrame({ 'City name': city_names, 'Population': population })\n",
        "print(type(cities['City name']))\n",
        "cities['City name']"
      ]
    },
    {
      "cell_type": "code",
      "execution_count": null,
      "id": "8c29a091-5d1e-41da-8d72-15a962671949",
      "metadata": {
        "id": "8c29a091-5d1e-41da-8d72-15a962671949"
      },
      "outputs": [],
      "source": [
        "print(type(cities['City name'][1]))\n",
        "cities['City name'][1]"
      ]
    },
    {
      "cell_type": "code",
      "execution_count": null,
      "id": "16b47bfa-2c0b-48e5-9cb1-30f383e33230",
      "metadata": {
        "id": "16b47bfa-2c0b-48e5-9cb1-30f383e33230"
      },
      "outputs": [],
      "source": [
        "print(type(cities[0:2]))\n",
        "cities[0:2]"
      ]
    },
    {
      "cell_type": "markdown",
      "id": "4f4fe75c-ea43-4303-bba1-a54fa777ca67",
      "metadata": {
        "id": "4f4fe75c-ea43-4303-bba1-a54fa777ca67"
      },
      "source": [
        "In addition, *pandas* provides an extremely rich API for advanced [indexing and selection](http://pandas.pydata.org/pandas-docs/stable/indexing.html) that is too extensive to be covered here."
      ]
    },
    {
      "cell_type": "markdown",
      "id": "fc99a631-a364-412e-8ec4-8b79a1f3b6f4",
      "metadata": {
        "id": "fc99a631-a364-412e-8ec4-8b79a1f3b6f4"
      },
      "source": [
        "## Manipulating Data\n",
        "\n",
        "You may apply Python's basic arithmetic operations to `Series`. For example:"
      ]
    },
    {
      "cell_type": "code",
      "execution_count": null,
      "id": "f8d5add7-eb82-4568-bf57-1e4dcdc07adf",
      "metadata": {
        "id": "f8d5add7-eb82-4568-bf57-1e4dcdc07adf"
      },
      "outputs": [],
      "source": [
        "population / 1000."
      ]
    },
    {
      "cell_type": "markdown",
      "id": "bb733635-34b0-4b90-a4bc-571b641abeaf",
      "metadata": {
        "id": "bb733635-34b0-4b90-a4bc-571b641abeaf"
      },
      "source": [
        "[NumPy](http://www.numpy.org/) is a popular toolkit for scientific computing. *pandas* `Series` can be used as arguments to most NumPy functions:"
      ]
    },
    {
      "cell_type": "code",
      "execution_count": null,
      "id": "d2a87edc-e919-4812-9356-96c48f2a734a",
      "metadata": {
        "id": "d2a87edc-e919-4812-9356-96c48f2a734a"
      },
      "outputs": [],
      "source": [
        "import numpy as np\n",
        "\n",
        "np.log(population)"
      ]
    },
    {
      "cell_type": "markdown",
      "id": "584d98ff-762e-4947-88a0-47f58d2df6c9",
      "metadata": {
        "id": "584d98ff-762e-4947-88a0-47f58d2df6c9"
      },
      "source": [
        "For more complex single-column transformations, you can use `Series.apply`. Like the Python [map function](https://docs.python.org/2/library/functions.html#map),\n",
        "`Series.apply` accepts as an argument a [lambda function](https://docs.python.org/2/tutorial/controlflow.html#lambda-expressions), which is applied to each value.\n",
        "\n",
        "The example below creates a new `Series` that indicates whether `population` is over one million:"
      ]
    },
    {
      "cell_type": "code",
      "execution_count": null,
      "id": "7cd5e848-f7cf-4561-ab95-95479f8eaab1",
      "metadata": {
        "id": "7cd5e848-f7cf-4561-ab95-95479f8eaab1"
      },
      "outputs": [],
      "source": [
        "population.apply(lambda val: val > 1000000)"
      ]
    },
    {
      "cell_type": "markdown",
      "id": "9557b4aa-4fa8-43a1-8ff8-0fd218670e3c",
      "metadata": {
        "id": "9557b4aa-4fa8-43a1-8ff8-0fd218670e3c"
      },
      "source": [
        "Modifying `DataFrames` is also straightforward. For example, the following code adds two `Series` to an existing `DataFrame`:"
      ]
    },
    {
      "cell_type": "code",
      "execution_count": null,
      "id": "d4ce972b-b2d2-4f24-8073-ff8c257b87df",
      "metadata": {
        "id": "d4ce972b-b2d2-4f24-8073-ff8c257b87df"
      },
      "outputs": [],
      "source": [
        "cities['Area square miles'] = pd.Series([46.87, 176.53, 97.92])\n",
        "cities['Population density'] = cities['Population'] / cities['Area square miles']\n",
        "cities"
      ]
    },
    {
      "cell_type": "markdown",
      "id": "9125649b-0c85-4ce5-b051-88f88dc9726e",
      "metadata": {
        "id": "9125649b-0c85-4ce5-b051-88f88dc9726e"
      },
      "source": [
        "## Exercise #1\n",
        "\n",
        "Modify the `cities` table by adding a new boolean column that is True if and only if *both* of the following are True:\n",
        "\n",
        "  * The city is named after a saint.\n",
        "  * The city has an area greater than 50 square miles.\n",
        "\n",
        "**Note:** Boolean `Series` are combined using the bitwise, rather than the traditional boolean, operators. For example, when performing *logical and*, use `&` instead of `and`."
      ]
    },
    {
      "cell_type": "code",
      "execution_count": null,
      "id": "3933ee77-be32-4a03-91ff-68effe04de07",
      "metadata": {
        "id": "3933ee77-be32-4a03-91ff-68effe04de07"
      },
      "outputs": [],
      "source": []
    },
    {
      "cell_type": "markdown",
      "id": "7ec58bd5-180c-4fcf-a56f-bc838035e79d",
      "metadata": {
        "id": "7ec58bd5-180c-4fcf-a56f-bc838035e79d"
      },
      "source": [
        "## Exercise #2\n",
        "\n",
        "Create a new data frame from the `california_housing` table that includes the following columns:\n",
        "\n",
        "  - `households`: this should be the number of households bucketed in 50-household increments. (I.e., `0-49`, `50-99`, etc.). Reference the [pandas.cut()](https://pandas.pydata.org/docs/reference/api/pandas.cut.html) documentation for this\n",
        "  - `mean_income`: this should be the mean income for all rows in the group\n",
        "  - `mean_house_price`: this should be the mean of the house values for all rows in the group\n",
        "  - `bedroom_ratio` which is the total number of bedrooms / the total number of rooms for all houses in the group"
      ]
    },
    {
      "cell_type": "code",
      "execution_count": null,
      "id": "a702d55a-c76c-40d0-a1a3-fbe301b52212",
      "metadata": {
        "id": "a702d55a-c76c-40d0-a1a3-fbe301b52212"
      },
      "outputs": [],
      "source": []
    },
    {
      "cell_type": "markdown",
      "id": "8dc7081f-c1d2-4eb4-a901-876c6234c372",
      "metadata": {
        "id": "8dc7081f-c1d2-4eb4-a901-876c6234c372"
      },
      "source": [
        "-----"
      ]
    },
    {
      "cell_type": "markdown",
      "id": "5ea7359e-e647-447e-9bb1-e581bc151631",
      "metadata": {
        "id": "5ea7359e-e647-447e-9bb1-e581bc151631"
      },
      "source": [
        "## Indexes\n",
        "Both `Series` and `DataFrame` objects also define an `index` property that assigns an identifier value to each `Series` item or `DataFrame` row.\n",
        "\n",
        "By default, at construction, *pandas* assigns index values that reflect the ordering of the source data. Once created, the index values are stable; that is, they do not change when data is reordered."
      ]
    },
    {
      "cell_type": "code",
      "execution_count": null,
      "id": "606d121c-7ce8-4043-86a0-ec51afa2b2cb",
      "metadata": {
        "id": "606d121c-7ce8-4043-86a0-ec51afa2b2cb"
      },
      "outputs": [],
      "source": [
        "city_names.index"
      ]
    },
    {
      "cell_type": "code",
      "execution_count": null,
      "id": "f322f908-d6f7-48a6-bb46-307156b1ad5d",
      "metadata": {
        "id": "f322f908-d6f7-48a6-bb46-307156b1ad5d"
      },
      "outputs": [],
      "source": [
        "cities.index"
      ]
    },
    {
      "cell_type": "markdown",
      "id": "fdda24ea-428f-4bca-a71c-cfb396c6f3ae",
      "metadata": {
        "id": "fdda24ea-428f-4bca-a71c-cfb396c6f3ae"
      },
      "source": [
        "Call `DataFrame.reindex` to manually reorder the rows. For example, the following has the same effect as sorting by city name:"
      ]
    },
    {
      "cell_type": "code",
      "execution_count": null,
      "id": "0b1818e3-c026-4306-8287-168d1d8aa33e",
      "metadata": {
        "id": "0b1818e3-c026-4306-8287-168d1d8aa33e"
      },
      "outputs": [],
      "source": [
        "cities.reindex([2, 0, 1])"
      ]
    },
    {
      "cell_type": "markdown",
      "id": "da03003d-f556-49ce-bc5b-5e0a8036ffe7",
      "metadata": {
        "id": "da03003d-f556-49ce-bc5b-5e0a8036ffe7"
      },
      "source": [
        "Reindexing is a great way to shuffle (randomize) a `DataFrame`. In the example below, we take the index, which is array-like, and pass it to NumPy's `random.permutation` function, which shuffles its values in place. Calling `reindex` with this shuffled array causes the `DataFrame` rows to be shuffled in the same way.\n",
        "Try running the following cell multiple times!"
      ]
    },
    {
      "cell_type": "code",
      "execution_count": null,
      "id": "e308d46d-5912-453d-9111-6508efeb7db8",
      "metadata": {
        "id": "e308d46d-5912-453d-9111-6508efeb7db8"
      },
      "outputs": [],
      "source": [
        "cities.reindex(np.random.permutation(cities.index))"
      ]
    },
    {
      "cell_type": "markdown",
      "id": "e5f93590-a60c-482f-87cd-85c0544eae2b",
      "metadata": {
        "id": "e5f93590-a60c-482f-87cd-85c0544eae2b"
      },
      "source": [
        "For more information, see the [Index documentation](http://pandas.pydata.org/pandas-docs/stable/indexing.html#index-objects)."
      ]
    },
    {
      "cell_type": "markdown",
      "id": "112649f3-0dfd-40c0-a4f3-ae20ea168336",
      "metadata": {
        "id": "112649f3-0dfd-40c0-a4f3-ae20ea168336"
      },
      "source": [
        "## Exercise #3\n",
        "\n",
        "The `reindex` method allows index values that are not in the original `DataFrame`'s index values. Try it and see what happens if you use such values! Why do you think this is allowed?"
      ]
    },
    {
      "cell_type": "code",
      "execution_count": null,
      "id": "39616e83-1006-4d0e-80b9-7b241e713bb9",
      "metadata": {
        "id": "39616e83-1006-4d0e-80b9-7b241e713bb9"
      },
      "outputs": [],
      "source": []
    }
  ],
  "metadata": {
    "kernelspec": {
      "display_name": "Python 3 (ipykernel)",
      "language": "python",
      "name": "python3"
    },
    "language_info": {
      "codemirror_mode": {
        "name": "ipython",
        "version": 3
      },
      "file_extension": ".py",
      "mimetype": "text/x-python",
      "name": "python",
      "nbconvert_exporter": "python",
      "pygments_lexer": "ipython3",
      "version": "3.8.10"
    },
    "colab": {
      "provenance": [],
      "include_colab_link": true
    }
  },
  "nbformat": 4,
  "nbformat_minor": 5
}